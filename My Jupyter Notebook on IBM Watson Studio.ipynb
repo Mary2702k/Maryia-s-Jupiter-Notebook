{
  "metadata": {
    "language_info": {
      "codemirror_mode": {
        "name": "python",
        "version": 3
      },
      "file_extension": ".py",
      "mimetype": "text/x-python",
      "name": "python",
      "nbconvert_exporter": "python",
      "pygments_lexer": "ipython3",
      "version": "3.8"
    },
    "kernelspec": {
      "name": "python",
      "display_name": "Pyolite",
      "language": "python"
    }
  },
  "nbformat_minor": 4,
  "nbformat": 4,
  "cells": [
    {
      "cell_type": "markdown",
      "source": "# My Jupyter Notebook on IBM Watson Studio",
      "metadata": {
        "tags": []
      }
    },
    {
      "cell_type": "markdown",
      "source": "**Maryia**\n\n  Molecular Oncologiest",
      "metadata": {}
    },
    {
      "cell_type": "markdown",
      "source": "*I'm interested in data science because I'm working on my PhD and I want to study analysis to get maximum infomation from my research. Also I see a good perspective to use it in future for a lot of medical purpose.*",
      "metadata": {}
    },
    {
      "cell_type": "markdown",
      "source": "### Integer Addition",
      "metadata": {}
    },
    {
      "cell_type": "code",
      "source": "2+7",
      "metadata": {
        "trusted": true
      },
      "execution_count": 8,
      "outputs": [
        {
          "execution_count": 8,
          "output_type": "execute_result",
          "data": {
            "text/plain": "9"
          },
          "metadata": {}
        }
      ]
    },
    {
      "cell_type": "markdown",
      "source": "***\n1. Write down first integer\n   * 1, 23, 784 for example ~~not 1,23~~\n2. Write down second integer\n   * 2, 24, 785 for exaple\n3. Put + between them\n\n| *Integer* | `Integer +1` | **Integer +2** |\n|-----------|:------------:|:--------------:|\n|    1      |       2      |        3       |\n\n<a href=\"https://www.pexels.com/photo/white-and-grey-kitten-on-brown-and-black-leopard-print-textile-45201/\"> The white kitten",
      "metadata": {}
    },
    {
      "cell_type": "code",
      "source": "",
      "metadata": {},
      "execution_count": null,
      "outputs": []
    }
  ]
}